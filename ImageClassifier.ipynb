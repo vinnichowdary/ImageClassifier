{
 "cells": [
  {
   "cell_type": "code",
   "execution_count": 29,
   "id": "f1741b51",
   "metadata": {},
   "outputs": [
    {
     "name": "stdout",
     "output_type": "stream",
     "text": [
      "D:/WORK-USA/flower\\test\\00-192x192-462.tfrec\n",
      "D:/WORK-USA/flower\\test\\01-192x192-462.tfrec\n",
      "D:/WORK-USA/flower\\test\\02-192x192-462.tfrec\n",
      "D:/WORK-USA/flower\\test\\03-192x192-462.tfrec\n",
      "D:/WORK-USA/flower\\test\\04-192x192-462.tfrec\n",
      "D:/WORK-USA/flower\\test\\05-192x192-462.tfrec\n",
      "D:/WORK-USA/flower\\test\\06-192x192-462.tfrec\n",
      "D:/WORK-USA/flower\\test\\07-192x192-462.tfrec\n",
      "D:/WORK-USA/flower\\test\\08-192x192-462.tfrec\n",
      "D:/WORK-USA/flower\\test\\09-192x192-462.tfrec\n",
      "D:/WORK-USA/flower\\test\\10-192x192-462.tfrec\n",
      "D:/WORK-USA/flower\\test\\11-192x192-462.tfrec\n",
      "D:/WORK-USA/flower\\test\\12-192x192-462.tfrec\n",
      "D:/WORK-USA/flower\\test\\13-192x192-462.tfrec\n",
      "D:/WORK-USA/flower\\test\\14-192x192-462.tfrec\n",
      "D:/WORK-USA/flower\\test\\15-192x192-452.tfrec\n",
      "D:/WORK-USA/flower\\train\\00-192x192-798.tfrec\n",
      "D:/WORK-USA/flower\\train\\01-192x192-798.tfrec\n",
      "D:/WORK-USA/flower\\train\\02-192x192-798.tfrec\n",
      "D:/WORK-USA/flower\\train\\03-192x192-798.tfrec\n",
      "D:/WORK-USA/flower\\train\\04-192x192-798.tfrec\n",
      "D:/WORK-USA/flower\\train\\05-192x192-798.tfrec\n",
      "D:/WORK-USA/flower\\train\\06-192x192-798.tfrec\n",
      "D:/WORK-USA/flower\\train\\07-192x192-798.tfrec\n",
      "D:/WORK-USA/flower\\train\\08-192x192-798.tfrec\n",
      "D:/WORK-USA/flower\\train\\09-192x192-798.tfrec\n",
      "D:/WORK-USA/flower\\train\\10-192x192-798.tfrec\n",
      "D:/WORK-USA/flower\\train\\11-192x192-798.tfrec\n",
      "D:/WORK-USA/flower\\train\\12-192x192-798.tfrec\n",
      "D:/WORK-USA/flower\\train\\13-192x192-798.tfrec\n",
      "D:/WORK-USA/flower\\train\\14-192x192-798.tfrec\n",
      "D:/WORK-USA/flower\\train\\15-192x192-783.tfrec\n",
      "D:/WORK-USA/flower\\val\\00-192x192-232.tfrec\n",
      "D:/WORK-USA/flower\\val\\01-192x192-232.tfrec\n",
      "D:/WORK-USA/flower\\val\\02-192x192-232.tfrec\n",
      "D:/WORK-USA/flower\\val\\03-192x192-232.tfrec\n",
      "D:/WORK-USA/flower\\val\\04-192x192-232.tfrec\n",
      "D:/WORK-USA/flower\\val\\05-192x192-232.tfrec\n",
      "D:/WORK-USA/flower\\val\\06-192x192-232.tfrec\n",
      "D:/WORK-USA/flower\\val\\07-192x192-232.tfrec\n",
      "D:/WORK-USA/flower\\val\\08-192x192-232.tfrec\n",
      "D:/WORK-USA/flower\\val\\09-192x192-232.tfrec\n",
      "D:/WORK-USA/flower\\val\\10-192x192-232.tfrec\n",
      "D:/WORK-USA/flower\\val\\11-192x192-232.tfrec\n",
      "D:/WORK-USA/flower\\val\\12-192x192-232.tfrec\n",
      "D:/WORK-USA/flower\\val\\13-192x192-232.tfrec\n",
      "D:/WORK-USA/flower\\val\\14-192x192-232.tfrec\n",
      "D:/WORK-USA/flower\\val\\15-192x192-232.tfrec\n"
     ]
    }
   ],
   "source": [
    "import numpy as np \n",
    "import pandas as pd \n",
    "import os\n",
    "for dirname, _, filenames in os.walk('D:/WORK-USA/flower'):\n",
    "    for filename in filenames:\n",
    "        print(os.path.join(dirname, filename))"
   ]
  },
  {
   "cell_type": "code",
   "execution_count": 31,
   "id": "d284a963",
   "metadata": {},
   "outputs": [
    {
     "name": "stdout",
     "output_type": "stream",
     "text": [
      "Tensorflow version 2.14.0\n"
     ]
    }
   ],
   "source": [
    "import math, re, os\n",
    "import tensorflow as tf\n",
    "import numpy as np\n",
    "from matplotlib import pyplot as plt\n",
    "from sklearn.metrics import f1_score, precision_score, recall_score, confusion_matrix, accuracy_score\n",
    "from tensorflow.keras import backend as K\n",
    "print(\"Tensorflow version \" + tf.__version__)\n",
    "AUTO = tf.data.experimental.AUTOTUNE"
   ]
  },
  {
   "cell_type": "code",
   "execution_count": 33,
   "id": "8b7b03de",
   "metadata": {},
   "outputs": [
    {
     "name": "stdout",
     "output_type": "stream",
     "text": [
      "REPLICAS:  1\n"
     ]
    }
   ],
   "source": [
    "try:\n",
    "    tpu = tf.distribute.cluster_resolver.TPUClusterResolver()  \n",
    "    print('Running on TPU ', tpu.master())\n",
    "except ValueError:\n",
    "    tpu = None\n",
    "\n",
    "if tpu:\n",
    "    tf.config.experimental_connect_to_cluster(tpu)\n",
    "    tf.tpu.experimental.initialize_tpu_system(tpu)\n",
    "    strategy = tf.distribute.experimental.TPUStrategy(tpu)\n",
    "else:\n",
    "    strategy = tf.distribute.get_strategy() \n",
    "\n",
    "print(\"REPLICAS: \", strategy.num_replicas_in_sync)"
   ]
  },
  {
   "cell_type": "code",
   "execution_count": 34,
   "id": "65eea03f",
   "metadata": {},
   "outputs": [],
   "source": [
    "IMAGE_SIZE = [192, 192]\n",
    "EPOCHS = 20\n",
    "BATCH_SIZE = 16 * strategy.num_replicas_in_sync"
   ]
  },
  {
   "cell_type": "code",
   "execution_count": 35,
   "id": "212ebbbb",
   "metadata": {},
   "outputs": [],
   "source": [
    "GCS_PATH=\"D:/WORK-USA/flower\"\n",
    "TRAINING_FILENAMES = tf.io.gfile.glob(GCS_PATH + '/train/*.tfrec')\n",
    "VALIDATION_FILENAMES = tf.io.gfile.glob(GCS_PATH + '/val/*.tfrec')\n",
    "TEST_FILENAMES = tf.io.gfile.glob(GCS_PATH + '/test/*.tfrec')"
   ]
  },
  {
   "cell_type": "code",
   "execution_count": 45,
   "id": "69d554c4",
   "metadata": {},
   "outputs": [
    {
     "name": "stdout",
     "output_type": "stream",
     "text": [
      "['D:\\\\WORK-USA\\\\flower\\\\train\\\\00-192x192-798.tfrec', 'D:\\\\WORK-USA\\\\flower\\\\train\\\\01-192x192-798.tfrec', 'D:\\\\WORK-USA\\\\flower\\\\train\\\\02-192x192-798.tfrec', 'D:\\\\WORK-USA\\\\flower\\\\train\\\\03-192x192-798.tfrec', 'D:\\\\WORK-USA\\\\flower\\\\train\\\\04-192x192-798.tfrec', 'D:\\\\WORK-USA\\\\flower\\\\train\\\\05-192x192-798.tfrec', 'D:\\\\WORK-USA\\\\flower\\\\train\\\\06-192x192-798.tfrec', 'D:\\\\WORK-USA\\\\flower\\\\train\\\\07-192x192-798.tfrec', 'D:\\\\WORK-USA\\\\flower\\\\train\\\\08-192x192-798.tfrec', 'D:\\\\WORK-USA\\\\flower\\\\train\\\\09-192x192-798.tfrec', 'D:\\\\WORK-USA\\\\flower\\\\train\\\\10-192x192-798.tfrec', 'D:\\\\WORK-USA\\\\flower\\\\train\\\\11-192x192-798.tfrec', 'D:\\\\WORK-USA\\\\flower\\\\train\\\\12-192x192-798.tfrec', 'D:\\\\WORK-USA\\\\flower\\\\train\\\\13-192x192-798.tfrec', 'D:\\\\WORK-USA\\\\flower\\\\train\\\\14-192x192-798.tfrec', 'D:\\\\WORK-USA\\\\flower\\\\train\\\\15-192x192-783.tfrec']\n",
      "['D:\\\\WORK-USA\\\\flower\\\\val\\\\00-192x192-232.tfrec', 'D:\\\\WORK-USA\\\\flower\\\\val\\\\01-192x192-232.tfrec', 'D:\\\\WORK-USA\\\\flower\\\\val\\\\02-192x192-232.tfrec', 'D:\\\\WORK-USA\\\\flower\\\\val\\\\03-192x192-232.tfrec', 'D:\\\\WORK-USA\\\\flower\\\\val\\\\04-192x192-232.tfrec', 'D:\\\\WORK-USA\\\\flower\\\\val\\\\05-192x192-232.tfrec', 'D:\\\\WORK-USA\\\\flower\\\\val\\\\06-192x192-232.tfrec', 'D:\\\\WORK-USA\\\\flower\\\\val\\\\07-192x192-232.tfrec', 'D:\\\\WORK-USA\\\\flower\\\\val\\\\08-192x192-232.tfrec', 'D:\\\\WORK-USA\\\\flower\\\\val\\\\09-192x192-232.tfrec', 'D:\\\\WORK-USA\\\\flower\\\\val\\\\10-192x192-232.tfrec', 'D:\\\\WORK-USA\\\\flower\\\\val\\\\11-192x192-232.tfrec', 'D:\\\\WORK-USA\\\\flower\\\\val\\\\12-192x192-232.tfrec', 'D:\\\\WORK-USA\\\\flower\\\\val\\\\13-192x192-232.tfrec', 'D:\\\\WORK-USA\\\\flower\\\\val\\\\14-192x192-232.tfrec', 'D:\\\\WORK-USA\\\\flower\\\\val\\\\15-192x192-232.tfrec']\n",
      "['D:\\\\WORK-USA\\\\flower\\\\test\\\\00-192x192-462.tfrec', 'D:\\\\WORK-USA\\\\flower\\\\test\\\\01-192x192-462.tfrec', 'D:\\\\WORK-USA\\\\flower\\\\test\\\\02-192x192-462.tfrec', 'D:\\\\WORK-USA\\\\flower\\\\test\\\\03-192x192-462.tfrec', 'D:\\\\WORK-USA\\\\flower\\\\test\\\\04-192x192-462.tfrec', 'D:\\\\WORK-USA\\\\flower\\\\test\\\\05-192x192-462.tfrec', 'D:\\\\WORK-USA\\\\flower\\\\test\\\\06-192x192-462.tfrec', 'D:\\\\WORK-USA\\\\flower\\\\test\\\\07-192x192-462.tfrec', 'D:\\\\WORK-USA\\\\flower\\\\test\\\\08-192x192-462.tfrec', 'D:\\\\WORK-USA\\\\flower\\\\test\\\\09-192x192-462.tfrec', 'D:\\\\WORK-USA\\\\flower\\\\test\\\\10-192x192-462.tfrec', 'D:\\\\WORK-USA\\\\flower\\\\test\\\\11-192x192-462.tfrec', 'D:\\\\WORK-USA\\\\flower\\\\test\\\\12-192x192-462.tfrec', 'D:\\\\WORK-USA\\\\flower\\\\test\\\\13-192x192-462.tfrec', 'D:\\\\WORK-USA\\\\flower\\\\test\\\\14-192x192-462.tfrec', 'D:\\\\WORK-USA\\\\flower\\\\test\\\\15-192x192-452.tfrec']\n"
     ]
    }
   ],
   "source": [
    "print(TRAINING_FILENAMES)\n",
    "print(VALIDATION_FILENAMES)\n",
    "print(TEST_FILENAMES)"
   ]
  },
  {
   "cell_type": "code",
   "execution_count": 22,
   "id": "6a16ebd9",
   "metadata": {},
   "outputs": [],
   "source": [
    "train_dataset = create_dataset(train_files, batch_size, shuffle_buffer_size)\n",
    "val_dataset = create_dataset(val_files, batch_size, shuffle_buffer_size)\n",
    "test_dataset = create_dataset(test_files, batch_size, shuffle_buffer_size)"
   ]
  },
  {
   "cell_type": "code",
   "execution_count": 46,
   "id": "1956e56c",
   "metadata": {},
   "outputs": [],
   "source": [
    "CLASSES = ['pink primrose',    'hard-leaved pocket orchid', 'canterbury bells', 'sweet pea',     'wild geranium',     'tiger lily',           'moon orchid',              'bird of paradise', 'monkshood',        'globe thistle',         \n",
    "           'snapdragon',       \"colt's foot\",               'king protea',      'spear thistle', 'yellow iris',       'globe-flower',         'purple coneflower',        'peruvian lily',    'balloon flower',   'giant white arum lily', \n",
    "           'fire lily',        'pincushion flower',         'fritillary',       'red ginger',    'grape hyacinth',    'corn poppy',           'prince of wales feathers', 'stemless gentian', 'artichoke',        'sweet william',         \n",
    "           'carnation',        'garden phlox',              'love in the mist', 'cosmos',        'alpine sea holly',  'ruby-lipped cattleya', 'cape flower',              'great masterwort', 'siam tulip',       'lenten rose',           \n",
    "           'barberton daisy',  'daffodil',                  'sword lily',       'poinsettia',    'bolero deep blue',  'wallflower',           'marigold',                 'buttercup',        'daisy',            'common dandelion',      \n",
    "           'petunia',          'wild pansy',                'primula',          'sunflower',     'lilac hibiscus',    'bishop of llandaff',   'gaura',                    'geranium',         'orange dahlia',    'pink-yellow dahlia',    \n",
    "           'cautleya spicata', 'japanese anemone',          'black-eyed susan', 'silverbush',    'californian poppy', 'osteospermum',         'spring crocus',            'iris',             'windflower',       'tree poppy',            \n",
    "           'gazania',          'azalea',                    'water lily',       'rose',          'thorn apple',       'morning glory',        'passion flower',           'lotus',            'toad lily',        'anthurium',             \n",
    "           'frangipani',       'clematis',                  'hibiscus',         'columbine',     'desert-rose',       'tree mallow',          'magnolia',                 'cyclamen ',        'watercress',       'canna lily',            \n",
    "           'hippeastrum ',     'bee balm',                  'pink quill',       'foxglove',      'bougainvillea',     'camellia',             'mallow',                   'mexican petunia',  'bromelia',         'blanket flower',        \n",
    "           'trumpet creeper',  'blackberry lily',           'common tulip',     'wild rose']                           "
   ]
  },
  {
   "cell_type": "code",
   "execution_count": 27,
   "id": "502df492",
   "metadata": {},
   "outputs": [],
   "source": []
  }
 ],
 "metadata": {
  "kernelspec": {
   "display_name": "Python 3 (ipykernel)",
   "language": "python",
   "name": "python3"
  },
  "language_info": {
   "codemirror_mode": {
    "name": "ipython",
    "version": 3
   },
   "file_extension": ".py",
   "mimetype": "text/x-python",
   "name": "python",
   "nbconvert_exporter": "python",
   "pygments_lexer": "ipython3",
   "version": "3.11.5"
  }
 },
 "nbformat": 4,
 "nbformat_minor": 5
}
